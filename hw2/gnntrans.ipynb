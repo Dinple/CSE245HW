{
 "cells": [
  {
   "cell_type": "code",
   "execution_count": 1,
   "metadata": {},
   "outputs": [],
   "source": [
    "import torch\n",
    "from torch import Tensor\n",
    "from torch.nn import Sequential, Linear, ReLU\n",
    "from scipy.sparse import random\n",
    "from scipy import stats\n",
    "from numpy.random import default_rng\n",
    "# circuit-sim\n",
    "# import subcircuit as sc\n",
    "# import PySpice.Logging.Logging as Logging\n",
    "# logger = Logging.setup_logging()\n",
    "# from PySpice.Spice.Netlist import Circuit, SubCircuit, SubCircuitFactory\n",
    "# from PySpice.Unit import *\n",
    "# from PySpice.Spice.NgSpice.Shared import NgSpiceShared\n"
   ]
  },
  {
   "cell_type": "code",
   "execution_count": null,
   "metadata": {},
   "outputs": [],
   "source": [
    "class GNNModule(torch.nn.Module):\n",
    "    def __init__(self, ...):\n",
    "        super().__init__()\n",
    "\n",
    "        self.conv = MyConv(...)\n",
    "        # Use a global sort aggregation:\n",
    "        self.global_pool = aggr.SortAggregation(k=4)\n",
    "        self.classifier = torch.nn.Linear(...)\n",
    "\n",
    "     def foward(self, x, edge_index, batch):\n",
    "         pass"
   ]
  },
  {
   "attachments": {},
   "cell_type": "markdown",
   "metadata": {},
   "source": [
    "| Type | Value                          | Type | Value                              |\n",
    "|------|--------------------------------|------|------------------------------------|\n",
    "| Node | capacitance value              | Path | input transition time              |\n",
    "|      | num of input nodes             |      | drive strength of drive cell       |\n",
    "|      | total input cap                |      | functionality  of drive cell       |\n",
    "|      | total output cap               |      | drive strength of load cell        |\n",
    "|      | number of connected resistance |      | functionality of load cell         |\n",
    "|      | total input resistance         |      | effective capacitance of load cell |\n",
    "|      | total output resistance        |      | wire path Elmore delay             |\n",
    "|      | Elmore downstream capacitance  |      | wire path D2M delay                |\n",
    "|      | Elmore stage delay             |      |                                    |"
   ]
  },
  {
   "cell_type": "code",
   "execution_count": 13,
   "metadata": {},
   "outputs": [
    {
     "name": "stdout",
     "output_type": "stream",
     "text": [
      "[[0. 0. 0. 0.]\n",
      " [0. 0. 4. 3.]\n",
      " [2. 0. 0. 0.]\n",
      " [0. 0. 0. 0.]\n",
      " [0. 2. 3. 1.]\n",
      " [0. 0. 0. 0.]\n",
      " [0. 0. 2. 3.]\n",
      " [2. 0. 0. 0.]\n",
      " [0. 0. 0. 0.]]\n",
      "[[0. 3.]\n",
      " [1. 0.]\n",
      " [0. 0.]\n",
      " [0. 5.]\n",
      " [0. 0.]\n",
      " [0. 0.]\n",
      " [2. 0.]\n",
      " [0. 0.]]\n",
      "[[0. 0. 0. 0.]\n",
      " [0. 0. 4. 3.]\n",
      " [0. 4. 5. 0.]\n",
      " [0. 0. 0. 0.]]\n"
     ]
    }
   ],
   "source": [
    "# Random Number Generator\n",
    "rng = default_rng(seed=42)\n",
    "rvs = stats.poisson(2, loc=1).rvs\n",
    "\n",
    "# Network Parameters\n",
    "num_nodes = 4\n",
    "num_node_features = 9\n",
    "num_paths = 2\n",
    "num_path_features = 8\n",
    "\n",
    "\n",
    "# Node Feature Matrix X for each capacitanc : d_x x V\n",
    "M_node = random(num_node_features, num_nodes, density=0.25, random_state=rng, data_rvs=rvs)\n",
    "print(M_node.A)\n",
    "\n",
    "# Path Feature Matrix H for each path : d_h x P\n",
    "M_path = random(num_path_features, num_paths, density=0.25, random_state=rng, data_rvs=rvs)\n",
    "print(M_path.A)\n",
    "\n",
    "# Weighted Adjacency Matrix A (reistance between vIi and v_j) : V x V\n",
    "M_adj = random(num_nodes, num_nodes, density=0.25, random_state=rng, data_rvs=rvs)\n",
    "print(M_adj.A)\n"
   ]
  },
  {
   "cell_type": "code",
   "execution_count": 14,
   "metadata": {},
   "outputs": [
    {
     "name": "stderr",
     "output_type": "stream",
     "text": [
      "Downloading https://github.com/kimiyoung/planetoid/raw/master/data/ind.pubmed.x\n",
      "Downloading https://github.com/kimiyoung/planetoid/raw/master/data/ind.pubmed.tx\n",
      "Downloading https://github.com/kimiyoung/planetoid/raw/master/data/ind.pubmed.allx\n",
      "Downloading https://github.com/kimiyoung/planetoid/raw/master/data/ind.pubmed.y\n",
      "Downloading https://github.com/kimiyoung/planetoid/raw/master/data/ind.pubmed.ty\n",
      "Downloading https://github.com/kimiyoung/planetoid/raw/master/data/ind.pubmed.ally\n",
      "Downloading https://github.com/kimiyoung/planetoid/raw/master/data/ind.pubmed.graph\n",
      "Downloading https://github.com/kimiyoung/planetoid/raw/master/data/ind.pubmed.test.index\n",
      "Processing...\n",
      "Done!\n"
     ]
    }
   ],
   "source": [
    "from torch_geometric.datasets import Planetoid\n",
    "\n",
    "dataset = Planetoid(root='.', name=\"Pubmed\")\n",
    "data = dataset[0]"
   ]
  },
  {
   "cell_type": "code",
   "execution_count": 17,
   "metadata": {},
   "outputs": [
    {
     "name": "stdout",
     "output_type": "stream",
     "text": [
      "Dataset: Pubmed()\n",
      "-------------------\n",
      "Number of graphs: 1\n",
      "Number of nodes: 19717\n",
      "Number of features: 500\n",
      "Number of classes: 3\n",
      "Pubmed()\n"
     ]
    }
   ],
   "source": [
    "# Print information about the dataset\n",
    "print(f'Dataset: {dataset}')\n",
    "print('-------------------')\n",
    "print(f'Number of graphs: {len(dataset)}')\n",
    "print(f'Number of nodes: {data.x.shape[0]}')\n",
    "print(f'Number of features: {dataset.num_features}')\n",
    "print(f'Number of classes: {dataset.num_classes}')\n",
    "\n"
   ]
  }
 ],
 "metadata": {
  "kernelspec": {
   "display_name": "gnn",
   "language": "python",
   "name": "python3"
  },
  "language_info": {
   "codemirror_mode": {
    "name": "ipython",
    "version": 3
   },
   "file_extension": ".py",
   "mimetype": "text/x-python",
   "name": "python",
   "nbconvert_exporter": "python",
   "pygments_lexer": "ipython3",
   "version": "3.11.3"
  },
  "orig_nbformat": 4
 },
 "nbformat": 4,
 "nbformat_minor": 2
}
