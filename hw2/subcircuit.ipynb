{
 "cells": [
  {
   "cell_type": "markdown",
   "metadata": {},
   "source": [
    "How to Use SubCircuit\n",
    "=====================\n",
    "\n",
    "This example shows how to use subcircuits.\n"
   ]
  },
  {
   "cell_type": "code",
   "execution_count": 7,
   "metadata": {},
   "outputs": [],
   "source": [
    "\n",
    "\n",
    "import PySpice.Logging.Logging as Logging\n",
    "logger = Logging.setup_logging()\n",
    "\n",
    "\n",
    "from PySpice.Spice.Netlist import Circuit, SubCircuit, SubCircuitFactory\n",
    "from PySpice.Unit import *\n",
    "\n",
    "\n"
   ]
  },
  {
   "cell_type": "markdown",
   "metadata": {},
   "source": [
    "There is two ways to define subcircuit with PySpice, either using\n",
    "`PySpice.Spice.Netlist.SubCircuit`{.interpreted-text role=\"class\"} or a\n",
    "simpler alternative\n",
    "`PySpice.Spice.Netlist.SubCircuitFactory`{.interpreted-text\n",
    "role=\"class\"}.\n",
    "\n",
    "Let define a parallel resistor subcircuit using the\n",
    "`PySpice.Spice.Netlist.SubCircuitFactory`{.interpreted-text\n",
    "role=\"class\"}\n"
   ]
  },
  {
   "cell_type": "code",
   "execution_count": 11,
   "metadata": {},
   "outputs": [],
   "source": [
    "\n",
    "class ParallelResistor(SubCircuitFactory):\n",
    "    __name__ = 'parallel_resistor'\n",
    "    __nodes__ = ('n1', 'n2')\n",
    "    def __init__(self, R1=1@u_Ω, R2=2@u_Ω):\n",
    "        super().__init__(self, *self.__name__, *self.__nodes__)\n",
    "        self.R(1, 'n1', 'n2', R1)\n",
    "        self.R(2, 'n1', 'n2', R2)\n",
    "\n"
   ]
  },
  {
   "cell_type": "markdown",
   "metadata": {},
   "source": [
    "Let define a circuit\n"
   ]
  },
  {
   "cell_type": "code",
   "execution_count": 12,
   "metadata": {},
   "outputs": [],
   "source": [
    "\n",
    "circuit = Circuit('Test')\n",
    "\n"
   ]
  },
  {
   "cell_type": "markdown",
   "metadata": {},
   "source": [
    "then we can use this subcircuit like this\n"
   ]
  },
  {
   "cell_type": "code",
   "execution_count": 13,
   "metadata": {},
   "outputs": [
    {
     "ename": "TypeError",
     "evalue": "SubCircuitFactory.__init__() takes 1 positional argument but 21 were given",
     "output_type": "error",
     "traceback": [
      "\u001b[0;31m---------------------------------------------------------------------------\u001b[0m",
      "\u001b[0;31mTypeError\u001b[0m                                 Traceback (most recent call last)",
      "Cell \u001b[0;32mIn[13], line 1\u001b[0m\n\u001b[0;32m----> 1\u001b[0m circuit\u001b[39m.\u001b[39msubcircuit(ParallelResistor(R2\u001b[39m=\u001b[39;49m\u001b[39m3\u001b[39;49m\u001b[39m@u_Ω\u001b[39;49m))\n\u001b[1;32m      2\u001b[0m circuit\u001b[39m.\u001b[39mX(\u001b[39m'\u001b[39m\u001b[39m1\u001b[39m\u001b[39m'\u001b[39m, \u001b[39m'\u001b[39m\u001b[39mparallel_resistor\u001b[39m\u001b[39m'\u001b[39m, \u001b[39m1\u001b[39m, circuit\u001b[39m.\u001b[39mgnd)\n\u001b[1;32m      4\u001b[0m \u001b[39mprint\u001b[39m(circuit)\n",
      "Cell \u001b[0;32mIn[11], line 5\u001b[0m, in \u001b[0;36mParallelResistor.__init__\u001b[0;34m(self, R1, R2)\u001b[0m\n\u001b[1;32m      4\u001b[0m \u001b[39mdef\u001b[39;00m \u001b[39m__init__\u001b[39m(\u001b[39mself\u001b[39m, R1\u001b[39m=\u001b[39m\u001b[39m1\u001b[39m\u001b[39m@u_Ω\u001b[39m, R2\u001b[39m=\u001b[39m\u001b[39m2\u001b[39m\u001b[39m@u_Ω\u001b[39m):\n\u001b[0;32m----> 5\u001b[0m     \u001b[39msuper\u001b[39;49m()\u001b[39m.\u001b[39;49m\u001b[39m__init__\u001b[39;49m(\u001b[39mself\u001b[39;49m, \u001b[39m*\u001b[39;49m\u001b[39mself\u001b[39;49m\u001b[39m.\u001b[39;49m\u001b[39m__name__\u001b[39;49m, \u001b[39m*\u001b[39;49m\u001b[39mself\u001b[39;49m\u001b[39m.\u001b[39;49m__nodes__)\n\u001b[1;32m      6\u001b[0m     \u001b[39mself\u001b[39m\u001b[39m.\u001b[39mR(\u001b[39m1\u001b[39m, \u001b[39m'\u001b[39m\u001b[39mn1\u001b[39m\u001b[39m'\u001b[39m, \u001b[39m'\u001b[39m\u001b[39mn2\u001b[39m\u001b[39m'\u001b[39m, R1)\n\u001b[1;32m      7\u001b[0m     \u001b[39mself\u001b[39m\u001b[39m.\u001b[39mR(\u001b[39m2\u001b[39m, \u001b[39m'\u001b[39m\u001b[39mn1\u001b[39m\u001b[39m'\u001b[39m, \u001b[39m'\u001b[39m\u001b[39mn2\u001b[39m\u001b[39m'\u001b[39m, R2)\n",
      "\u001b[0;31mTypeError\u001b[0m: SubCircuitFactory.__init__() takes 1 positional argument but 21 were given"
     ]
    }
   ],
   "source": [
    "circuit.subcircuit(ParallelResistor(R2=3@u_Ω))\n",
    "circuit.X('1', 'parallel_resistor', 1, circuit.gnd)\n",
    "\n",
    "print(circuit)\n"
   ]
  },
  {
   "cell_type": "markdown",
   "metadata": {},
   "source": [
    "If the above way is not suited for your purpose we can use this second\n",
    "approach\n"
   ]
  },
  {
   "cell_type": "code",
   "execution_count": null,
   "metadata": {},
   "outputs": [],
   "source": [
    "\n",
    "class ParallelResistor2(SubCircuit):\n",
    "    __nodes__ = ('n1', 'n2')\n",
    "    def __init__(self, name, R1=1@u_Ω, R2=2@u_Ω):\n",
    "        SubCircuit.__init__(self, name, *self.__nodes__)\n",
    "        self.R(1, 'n1', 'n2', R1)\n",
    "        self.R(2, 'n1', 'n2', R2)\n",
    "\n",
    "circuit = Circuit('Test')\n",
    "circuit.subcircuit(ParallelResistor2('pr1', R2=2@u_Ω))\n",
    "circuit.X('1', 'pr1', 1, circuit.gnd)\n",
    "circuit.subcircuit(ParallelResistor2('pr2', R2=3@u_Ω))\n",
    "circuit.X('2', 'pr2', 1, circuit.gnd)\n",
    "\n",
    "print(circuit)\n"
   ]
  }
 ],
 "metadata": {
  "kernelspec": {
   "display_name": "Python 3",
   "language": "python",
   "name": "python3"
  },
  "language_info": {
   "codemirror_mode": {
    "name": "ipython",
    "version": 3
   },
   "file_extension": ".py",
   "mimetype": "text/x-python",
   "name": "python",
   "nbconvert_exporter": "python",
   "pygments_lexer": "ipython3",
   "version": "3.11.3"
  }
 },
 "nbformat": 4,
 "nbformat_minor": 2
}
